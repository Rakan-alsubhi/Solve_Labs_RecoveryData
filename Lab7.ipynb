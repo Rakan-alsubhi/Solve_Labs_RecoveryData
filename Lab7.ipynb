{
 "cells": [
  {
   "cell_type": "code",
   "execution_count": 9,
   "metadata": {},
   "outputs": [
    {
     "data": {
      "text/plain": [
       "{'Hello': [5, [3, 10, 23, 27]]}"
      ]
     },
     "execution_count": 9,
     "metadata": {},
     "output_type": "execute_result"
    }
   ],
   "source": [
    "{\"Hello\": [5,[3,10,23,27]]}"
   ]
  },
  {
   "cell_type": "markdown",
   "metadata": {},
   "source": [
    "### Exercise 1: What does the following representation mean? {23: [3, [0, 12, 28]]}"
   ]
  },
  {
   "cell_type": "markdown",
   "metadata": {},
   "source": [
    "#### 23 is posting list\n",
    "#### 3 is frequency at level positinal index\n",
    "#### another numbers are level positinal index"
   ]
  },
  {
   "cell_type": "markdown",
   "metadata": {},
   "source": [
    "# Steps to build a Positional Index"
   ]
  },
  {
   "cell_type": "code",
   "execution_count": 5,
   "metadata": {},
   "outputs": [
    {
     "name": "stderr",
     "output_type": "stream",
     "text": [
      "[nltk_data] Downloading package stopwords to\n",
      "[nltk_data]     C:\\Users\\RaKaN\\AppData\\Roaming\\nltk_data...\n",
      "[nltk_data]   Package stopwords is already up-to-date!\n",
      "[nltk_data] Downloading package punkt to\n",
      "[nltk_data]     C:\\Users\\RaKaN\\AppData\\Roaming\\nltk_data...\n",
      "[nltk_data]   Package punkt is already up-to-date!\n"
     ]
    },
    {
     "data": {
      "text/plain": [
       "True"
      ]
     },
     "execution_count": 5,
     "metadata": {},
     "output_type": "execute_result"
    }
   ],
   "source": [
    "import pandas as pd\n",
    "import numpy as np\n",
    "import nltk\n",
    "nltk.download('stopwords')\n",
    "nltk.download('punkt') "
   ]
  },
  {
   "cell_type": "code",
   "execution_count": 7,
   "metadata": {},
   "outputs": [],
   "source": [
    "from nltk.corpus import stopwords\n",
    "from nltk.tokenize import word_tokenize\n",
    "from nltk.stem import PorterStemmer\n",
    "import os\n",
    "import string\n",
    "import copy\n",
    "import pickle "
   ]
  },
  {
   "cell_type": "code",
   "execution_count": 31,
   "metadata": {},
   "outputs": [
    {
     "name": "stdout",
     "output_type": "stream",
     "text": [
      "D:\\mini_newsgroups/comp.graphics/\n"
     ]
    }
   ],
   "source": [
    "title = \"comp.graphics\"\n",
    "os.chdir(\"D:/mini_newsgroups\")\n",
    "paths= []\n",
    "for (dirpath, dirnames, filenames) in os.walk(str(os.getcwd())+'/'+title+'/'): \n",
    "    for i in filenames: \n",
    "        paths.append(str(dirpath)+str(\"\\\\\")+i)\n",
    "print(dirpath)\n"
   ]
  },
  {
   "cell_type": "code",
   "execution_count": 32,
   "metadata": {},
   "outputs": [
    {
     "data": {
      "text/plain": [
       "'D:\\\\mini_newsgroups/comp.graphics/\\\\37916'"
      ]
     },
     "execution_count": 32,
     "metadata": {},
     "output_type": "execute_result"
    }
   ],
   "source": [
    "paths[0]"
   ]
  },
  {
   "cell_type": "code",
   "execution_count": 33,
   "metadata": {},
   "outputs": [
    {
     "data": {
      "text/plain": [
       "100"
      ]
     },
     "execution_count": 33,
     "metadata": {},
     "output_type": "execute_result"
    }
   ],
   "source": [
    "len(paths)"
   ]
  },
  {
   "cell_type": "markdown",
   "metadata": {},
   "source": [
    "## Preprocessing"
   ]
  },
  {
   "cell_type": "markdown",
   "metadata": {},
   "source": [
    "### Exercise 2: Write a set of functions that is able to remove:\n",
    "### stop words, punctuation, apostrophe, single characters, and\n",
    "### header. In addition, you have to convert words into lowercase,\n",
    "### stem the inter words and convert numbers to its equivalent words. "
   ]
  },
  {
   "cell_type": "markdown",
   "metadata": {},
   "source": [
    "## Removing stop words"
   ]
  },
  {
   "cell_type": "code",
   "execution_count": 13,
   "metadata": {},
   "outputs": [],
   "source": [
    "def remove_stop_words(data):\n",
    "    stop_words = stopwords.words('english')\n",
    "    words = word_tokenize(str(data))\n",
    "    new_text = \"\"\n",
    "    for w in words:\n",
    "        if w not in stop_words:\n",
    "            new_text = new_text + \" \" + w\n",
    "    return np.char.strip(new_text)"
   ]
  },
  {
   "cell_type": "markdown",
   "metadata": {},
   "source": [
    "##  Removing punctuation "
   ]
  },
  {
   "cell_type": "code",
   "execution_count": 14,
   "metadata": {},
   "outputs": [],
   "source": [
    "def remove_punctuation(data):\n",
    "    symbols = \"!\\\"#$%&()*+-./:;<=>?@[\\]^_`{|}~\\n\"\n",
    "    for i in range(len(symbols)):\n",
    "        data = np.char.replace(data, symbols[i], '')\n",
    "        data = np.char.replace(data, \" \", \" \")\n",
    "    data = np.char.replace(data, ',', '')\n",
    "    return data"
   ]
  },
  {
   "cell_type": "markdown",
   "metadata": {},
   "source": [
    "## Convert to lowercase "
   ]
  },
  {
   "cell_type": "code",
   "execution_count": 15,
   "metadata": {},
   "outputs": [],
   "source": [
    "def convert_lower_case(data):\n",
    "    return np.char.lower(data) "
   ]
  },
  {
   "cell_type": "markdown",
   "metadata": {},
   "source": [
    "## Stemming"
   ]
  },
  {
   "cell_type": "code",
   "execution_count": 16,
   "metadata": {},
   "outputs": [],
   "source": [
    "def stemming(data):\n",
    "    stemmer= PorterStemmer()\n",
    "    tokens = word_tokenize(str(data))\n",
    "    new_text = \"\"\n",
    "    for w in tokens:\n",
    "        new_text = new_text + \" \" + stemmer.stem(w)\n",
    "    return np.char.strip(new_text)"
   ]
  },
  {
   "cell_type": "markdown",
   "metadata": {},
   "source": [
    "## Converting numbers to its equivalent words"
   ]
  },
  {
   "cell_type": "code",
   "execution_count": 34,
   "metadata": {},
   "outputs": [],
   "source": [
    "def convert_numbers(data):\n",
    "    data = np.char.replace(data, \"0\", \" zero \")\n",
    "    data = np.char.replace(data, \"1\", \" one \")\n",
    "    data = np.char.replace(data, \"2\", \" two \")\n",
    "    data = np.char.replace(data, \"3\", \" three \")\n",
    "    data = np.char.replace(data, \"4\", \" four \")\n",
    "    data = np.char.replace(data, \"5\", \" five \")\n",
    "    data = np.char.replace(data, \"6\", \" six \")\n",
    "    data = np.char.replace(data, \"7\", \" seven \")\n",
    "    data = np.char.replace(data, \"8\", \" eight \")\n",
    "    data = np.char.replace(data, \"9\", \" nine \")\n",
    "    return data"
   ]
  },
  {
   "cell_type": "markdown",
   "metadata": {},
   "source": [
    "## Removing header "
   ]
  },
  {
   "cell_type": "code",
   "execution_count": 36,
   "metadata": {},
   "outputs": [],
   "source": [
    "def remove_header(data):\n",
    "    try:\n",
    "        ind = data.index('\\n\\n')\n",
    "        data = data[ind:]\n",
    "    except:\n",
    "        print(\"No Header\")\n",
    "    return data"
   ]
  },
  {
   "cell_type": "markdown",
   "metadata": {},
   "source": [
    "## Removing apostrophe"
   ]
  },
  {
   "cell_type": "code",
   "execution_count": 37,
   "metadata": {},
   "outputs": [],
   "source": [
    "def remove_apostrophe(data):\n",
    "    return np.char.replace(data, \"'\", \"\")"
   ]
  },
  {
   "cell_type": "markdown",
   "metadata": {},
   "source": [
    "## Removing single characters"
   ]
  },
  {
   "cell_type": "code",
   "execution_count": 38,
   "metadata": {},
   "outputs": [],
   "source": [
    "def remove_single_characters(data):\n",
    "    words = word_tokenize(str(data))\n",
    "    new_text = \"\"\n",
    "    for w in words:\n",
    "        if len(w) > 1:\n",
    "            new_text = new_text + \" \" + w\n",
    "    return np.char.strip(new_text)"
   ]
  },
  {
   "cell_type": "markdown",
   "metadata": {},
   "source": [
    "# Generating Postings "
   ]
  },
  {
   "cell_type": "code",
   "execution_count": 40,
   "metadata": {},
   "outputs": [],
   "source": [
    "def preprocess(data, query):\n",
    "    if not query:\n",
    "        data = remove_header(data) \n",
    "        data = convert_lower_case(data)\n",
    "        data = convert_numbers(data)\n",
    "        data = remove_punctuation(data)\n",
    "        data = remove_stop_words(data)\n",
    "        data = remove_apostrophe(data)\n",
    "        data = remove_single_characters(data)\n",
    "        data = stemming(data) \n",
    "    return data"
   ]
  },
  {
   "cell_type": "code",
   "execution_count": 49,
   "metadata": {},
   "outputs": [
    {
     "name": "stdout",
     "output_type": "stream",
     "text": [
      "0\n"
     ]
    }
   ],
   "source": [
    "postings = pd.DataFrame()\n",
    "frequency = pd.DataFrame()\n",
    "doc = 0\n",
    "for path in paths:\n",
    "    file = open(path, 'r', encoding='cp1250')\n",
    "    text = file.read().strip()\n",
    "    file.close()\n",
    "    preprocessed_text = preprocess(text, False)\n",
    "    if doc%100 == 0:\n",
    "        print(doc)\n",
    "    tokens = word_tokenize(str(preprocessed_text))\n",
    "    \n",
    "    pos = 0\n",
    "    for token in tokens:\n",
    "        if token in postings:\n",
    "            p = postings[token][0]\n",
    "            \n",
    "            k = [a[0] for a in p]\n",
    "            if doc in k:\n",
    "                for a in p:\n",
    "                    if a[0] == doc:\n",
    "                        a[1].add(pos)\n",
    "            else:\n",
    "                p.append([doc,{pos}])\n",
    "                frequency[token][0] += 1\n",
    "        else:\n",
    "            postings.insert(value=[[[doc, {pos}]]], loc=0, column=token)\n",
    "            frequency.insert(value=[1], loc=0, column=token)\n",
    "            \n",
    "        pos += 1\n",
    "    doc += 1"
   ]
  },
  {
   "cell_type": "code",
   "execution_count": 51,
   "metadata": {},
   "outputs": [
    {
     "data": {
      "text/html": [
       "<div>\n",
       "<style scoped>\n",
       "    .dataframe tbody tr th:only-of-type {\n",
       "        vertical-align: middle;\n",
       "    }\n",
       "\n",
       "    .dataframe tbody tr th {\n",
       "        vertical-align: top;\n",
       "    }\n",
       "\n",
       "    .dataframe thead th {\n",
       "        text-align: right;\n",
       "    }\n",
       "</style>\n",
       "<table border=\"1\" class=\"dataframe\">\n",
       "  <thead>\n",
       "    <tr style=\"text-align: right;\">\n",
       "      <th></th>\n",
       "      <th>moneydav</th>\n",
       "      <th>wastedyour</th>\n",
       "      <th>stuffif</th>\n",
       "      <th>programto</th>\n",
       "      <th>fontmong</th>\n",
       "      <th>printerhowev</th>\n",
       "      <th>lazer</th>\n",
       "      <th>reallyfor</th>\n",
       "      <th>rippingalthough</th>\n",
       "      <th>documentto</th>\n",
       "      <th>...</th>\n",
       "      <th>simpl</th>\n",
       "      <th>sipp</th>\n",
       "      <th>call</th>\n",
       "      <th>routin</th>\n",
       "      <th>render</th>\n",
       "      <th>librari</th>\n",
       "      <th>describ</th>\n",
       "      <th>file</th>\n",
       "      <th>got</th>\n",
       "      <th>recent</th>\n",
       "    </tr>\n",
       "  </thead>\n",
       "  <tbody>\n",
       "    <tr>\n",
       "      <td>0</td>\n",
       "      <td>[[99, {106}]]</td>\n",
       "      <td>[[99, {105}]]</td>\n",
       "      <td>[[99, {99}]]</td>\n",
       "      <td>[[99, {94}]]</td>\n",
       "      <td>[[99, {92}]]</td>\n",
       "      <td>[[99, {88}]]</td>\n",
       "      <td>[[99, {87}]]</td>\n",
       "      <td>[[99, {84}]]</td>\n",
       "      <td>[[99, {77}]]</td>\n",
       "      <td>[[99, {73}]]</td>\n",
       "      <td>...</td>\n",
       "      <td>[[0, {9}], [1, {48}], [17, {952, 4329, 4531, 4...</td>\n",
       "      <td>[[0, {8, 29}]]</td>\n",
       "      <td>[[0, {7}], [5, {39}], [10, {72}], [17, {101, 2...</td>\n",
       "      <td>[[0, {33, 6}], [5, {114, 123}], [10, {12}], [1...</td>\n",
       "      <td>[[0, {32, 5}], [1, {26}], [17, {761}], [46, {1...</td>\n",
       "      <td>[[0, {4, 31}], [1, {16}], [17, {1088, 3975, 43...</td>\n",
       "      <td>[[0, {3}], [17, {1183}], [65, {41}], [76, {24,...</td>\n",
       "      <td>[[0, {2}], [5, {154}], [7, {17, 30}], [8, {32,...</td>\n",
       "      <td>[[0, {1}], [29, {49}], [33, {53}], [37, {111}]...</td>\n",
       "      <td>[[0, {0}], [5, {153}], [13, {0}], [17, {5035}]...</td>\n",
       "    </tr>\n",
       "  </tbody>\n",
       "</table>\n",
       "<p>1 rows × 6538 columns</p>\n",
       "</div>"
      ],
      "text/plain": [
       "        moneydav     wastedyour       stuffif     programto      fontmong  \\\n",
       "0  [[99, {106}]]  [[99, {105}]]  [[99, {99}]]  [[99, {94}]]  [[99, {92}]]   \n",
       "\n",
       "   printerhowev         lazer     reallyfor rippingalthough    documentto  \\\n",
       "0  [[99, {88}]]  [[99, {87}]]  [[99, {84}]]    [[99, {77}]]  [[99, {73}]]   \n",
       "\n",
       "   ...                                              simpl            sipp  \\\n",
       "0  ...  [[0, {9}], [1, {48}], [17, {952, 4329, 4531, 4...  [[0, {8, 29}]]   \n",
       "\n",
       "                                                call  \\\n",
       "0  [[0, {7}], [5, {39}], [10, {72}], [17, {101, 2...   \n",
       "\n",
       "                                              routin  \\\n",
       "0  [[0, {33, 6}], [5, {114, 123}], [10, {12}], [1...   \n",
       "\n",
       "                                              render  \\\n",
       "0  [[0, {32, 5}], [1, {26}], [17, {761}], [46, {1...   \n",
       "\n",
       "                                             librari  \\\n",
       "0  [[0, {4, 31}], [1, {16}], [17, {1088, 3975, 43...   \n",
       "\n",
       "                                             describ  \\\n",
       "0  [[0, {3}], [17, {1183}], [65, {41}], [76, {24,...   \n",
       "\n",
       "                                                file  \\\n",
       "0  [[0, {2}], [5, {154}], [7, {17, 30}], [8, {32,...   \n",
       "\n",
       "                                                 got  \\\n",
       "0  [[0, {1}], [29, {49}], [33, {53}], [37, {111}]...   \n",
       "\n",
       "                                              recent  \n",
       "0  [[0, {0}], [5, {153}], [13, {0}], [17, {5035}]...  \n",
       "\n",
       "[1 rows x 6538 columns]"
      ]
     },
     "execution_count": 51,
     "metadata": {},
     "output_type": "execute_result"
    }
   ],
   "source": [
    "postings"
   ]
  },
  {
   "cell_type": "code",
   "execution_count": 53,
   "metadata": {},
   "outputs": [
    {
     "data": {
      "text/plain": [
       "0    [[0, {7}], [5, {39}], [10, {72}], [17, {101, 2...\n",
       "Name: call, dtype: object"
      ]
     },
     "execution_count": 53,
     "metadata": {},
     "output_type": "execute_result"
    }
   ],
   "source": [
    "postings[\"call\"]"
   ]
  },
  {
   "cell_type": "markdown",
   "metadata": {},
   "source": [
    "## Save outputs"
   ]
  },
  {
   "cell_type": "code",
   "execution_count": 56,
   "metadata": {},
   "outputs": [],
   "source": [
    "postings.to_pickle(title + \"_positional_postings\") \n",
    "frequency.to_pickle(title + \"_positional_frequency\") "
   ]
  },
  {
   "cell_type": "markdown",
   "metadata": {},
   "source": [
    "# Search Query"
   ]
  },
  {
   "cell_type": "markdown",
   "metadata": {},
   "source": [
    "## Read the stored posting list"
   ]
  },
  {
   "cell_type": "code",
   "execution_count": 58,
   "metadata": {},
   "outputs": [],
   "source": [
    "postings = pd.read_pickle(title + \"_positional_postings\") "
   ]
  },
  {
   "cell_type": "markdown",
   "metadata": {},
   "source": [
    "## Read frequency of a term as follows"
   ]
  },
  {
   "cell_type": "code",
   "execution_count": 59,
   "metadata": {},
   "outputs": [],
   "source": [
    "frequency = pd.read_pickle(title + \"_positional_frequency\") "
   ]
  },
  {
   "cell_type": "markdown",
   "metadata": {},
   "source": [
    "## Exercise3"
   ]
  },
  {
   "cell_type": "code",
   "execution_count": 60,
   "metadata": {},
   "outputs": [],
   "source": [
    "#### "
   ]
  },
  {
   "cell_type": "code",
   "execution_count": 66,
   "metadata": {},
   "outputs": [],
   "source": [
    "def get_word_postings(word):\n",
    "    preprocessed_word = str(preprocess(word, True))\n",
    "    print(preprocessed_word)\n",
    "    print(\"Frequency:\",frequency[preprocessed_word][0])\n",
    "    print(\"Postings List:\",postings[preprocessed_word][0])\n",
    "    \n",
    "def get_positions(posting_values, doc):\n",
    "    for posting_value in posting_values:\n",
    "        if posting_value[0] == doc:\n",
    "            return posting_value[1]\n",
    "    return {}\n",
    "\n",
    "def gen_init_set_matchings(word):\n",
    "    init = []\n",
    "    word_postings = postings[word][0]\n",
    "    for word_posting in word_postings:\n",
    "        for positions in word_posting[1]:\n",
    "            init.append((word_posting[0], positions))\n",
    "    return init\n",
    "\n",
    "def match_positional_index(init, b):\n",
    "    matched_docs = []\n",
    "    for p in init:\n",
    "        doc = p[0]\n",
    "        pos = p[1]\n",
    "\n",
    "        count = 0\n",
    "\n",
    "        for k in b:\n",
    "            pos = pos+1\n",
    "            k_pos = postings[k][0]\n",
    "            docs_list = [z[0] for z in k_pos]\n",
    "            if doc in docs_list:\n",
    "                doc_positions = get_positions(k_pos, doc)\n",
    "                if pos in doc_positions:\n",
    "                    count += 1\n",
    "                else:\n",
    "                    count += 1\n",
    "                    break\n",
    "\n",
    "            if count == len(b):\n",
    "                matched_docs.append(p[0])\n",
    "    return set(matched_docs)\n",
    "\n",
    "def run_query(query):\n",
    "    processed_query = preprocess(query, True)\n",
    "    print(processed_query)\n",
    "\n",
    "    query_tokens = word_tokenize(str(processed_query))\n",
    "    print(query_tokens)\n",
    "    \n",
    "    if len(query_tokens)==1:\n",
    "        print(\"Total Document Mathces\", [a[0] for a in postings[query][0]])\n",
    "        return [a[0] for a in postings[query][0]]\n",
    "    \n",
    "    init_word = query_tokens[0]\n",
    "    init_matches = gen_init_set_matchings(init_word)\n",
    "\n",
    "    query_tokens.pop(0)\n",
    "    total_matched_docs = match_positional_index(init_matches, query_tokens)\n",
    "    print(\"Total Document Matches:\", total_matched_docs)\n",
    "    return total_matched_docs"
   ]
  },
  {
   "cell_type": "code",
   "execution_count": 81,
   "metadata": {},
   "outputs": [
    {
     "name": "stdout",
     "output_type": "stream",
     "text": [
      "fontmong\n",
      "Frequency: 1\n",
      "Postings List: [[99, {92}]]\n"
     ]
    }
   ],
   "source": [
    "get_word_postings(\"fontmong\")"
   ]
  },
  {
   "cell_type": "code",
   "execution_count": 91,
   "metadata": {},
   "outputs": [
    {
     "name": "stdout",
     "output_type": "stream",
     "text": [
      "fontmong got\n",
      "['fontmong', 'got']\n",
      "Total Document Matches: set()\n"
     ]
    }
   ],
   "source": [
    "query = \"fontmong got\"\n",
    "lists = run_query(query)"
   ]
  },
  {
   "cell_type": "code",
   "execution_count": 84,
   "metadata": {},
   "outputs": [
    {
     "data": {
      "text/plain": [
       "0    [[0, {32, 5}], [1, {26}], [17, {761}], [46, {1...\n",
       "Name: render, dtype: object"
      ]
     },
     "execution_count": 84,
     "metadata": {},
     "output_type": "execute_result"
    }
   ],
   "source": [
    "postings[\"render\"]"
   ]
  },
  {
   "cell_type": "markdown",
   "metadata": {},
   "source": [
    "## Home Task\n",
    "### Exercise5"
   ]
  },
  {
   "cell_type": "code",
   "execution_count": 90,
   "metadata": {},
   "outputs": [
    {
     "name": "stdout",
     "output_type": "stream",
     "text": [
      "        moneydav     wastedyour       stuffif     programto      fontmong  \\\n",
      "0  [[99, {106}]]  [[99, {105}]]  [[99, {99}]]  [[99, {94}]]  [[99, {92}]]   \n",
      "\n",
      "   printerhowev         lazer     reallyfor rippingalthough    documentto  \\\n",
      "0  [[99, {88}]]  [[99, {87}]]  [[99, {84}]]    [[99, {77}]]  [[99, {73}]]   \n",
      "\n",
      "   ...                                              simpl            sipp  \\\n",
      "0  ...  [[0, {9}], [1, {48}], [17, {952, 4329, 4531, 4...  [[0, {8, 29}]]   \n",
      "\n",
      "                                                call  \\\n",
      "0  [[0, {7}], [5, {39}], [10, {72}], [17, {101, 2...   \n",
      "\n",
      "                                              routin  \\\n",
      "0  [[0, {33, 6}], [5, {114, 123}], [10, {12}], [1...   \n",
      "\n",
      "                                              render  \\\n",
      "0  [[0, {32, 5}], [1, {26}], [17, {761}], [46, {1...   \n",
      "\n",
      "                                             librari  \\\n",
      "0  [[0, {4, 31}], [1, {16}], [17, {1088, 3975, 43...   \n",
      "\n",
      "                                             describ  \\\n",
      "0  [[0, {3}], [17, {1183}], [65, {41}], [76, {24,...   \n",
      "\n",
      "                                                file  \\\n",
      "0  [[0, {2}], [5, {154}], [7, {17, 30}], [8, {32,...   \n",
      "\n",
      "                                                 got  \\\n",
      "0  [[0, {1}], [29, {49}], [33, {53}], [37, {111}]...   \n",
      "\n",
      "                                              recent  \n",
      "0  [[0, {0}], [5, {153}], [13, {0}], [17, {5035}]...  \n",
      "\n",
      "[1 rows x 6538 columns]\n",
      "['moneydav', 'wastedyour', 'stuffif', 'programto', 'fontmong', '\\\\', '0', '[', '[', '99', ',', '{', '106', '}', ']', ']', '[', '[', '99', ',', '{', '105', '}', ']', ']', '[', '[', '99', ',', '{', '99', '}', ']', ']', '[', '[', '99', ',', '{', '94', '}', ']', ']', '[', '[', '99', ',', '{', '92', '}', ']', ']', 'printerhowev', 'lazer', 'reallyfor', 'rippingalthough', 'documentto', '\\\\', '0', '[', '[', '99', ',', '{', '88', '}', ']', ']', '[', '[', '99', ',', '{', '87', '}', ']', ']', '[', '[', '99', ',', '{', '84', '}', ']', ']', '[', '[', '99', ',', '{', '77', '}', ']', ']', '[', '[', '99', ',', '{', '73', '}', ']', ']', '...', 'simpl', 'sipp', '\\\\', '0', '...', '[', '[', '0', ',', '{', '9', '}', ']', ',', '[', '1', ',', '{', '48', '}', ']', ',', '[', '17', ',', '{', '952', ',', '4329', ',', '4531', ',', '4', '...', '[', '[', '0', ',', '{', '8', ',', '29', '}', ']', ']', 'call', '\\\\', '0', '[', '[', '0', ',', '{', '7', '}', ']', ',', '[', '5', ',', '{', '39', '}', ']', ',', '[', '10', ',', '{', '72', '}', ']', ',', '[', '17', ',', '{', '101', ',', '2', '...', 'routin', '\\\\', '0', '[', '[', '0', ',', '{', '33', ',', '6', '}', ']', ',', '[', '5', ',', '{', '114', ',', '123', '}', ']', ',', '[', '10', ',', '{', '12', '}', ']', ',', '[', '1', '...', 'render', '\\\\', '0', '[', '[', '0', ',', '{', '32', ',', '5', '}', ']', ',', '[', '1', ',', '{', '26', '}', ']', ',', '[', '17', ',', '{', '761', '}', ']', ',', '[', '46', ',', '{', '1', '...', 'librari', '\\\\', '0', '[', '[', '0', ',', '{', '4', ',', '31', '}', ']', ',', '[', '1', ',', '{', '16', '}', ']', ',', '[', '17', ',', '{', '1088', ',', '3975', ',', '43', '...', 'describ', '\\\\', '0', '[', '[', '0', ',', '{', '3', '}', ']', ',', '[', '17', ',', '{', '1183', '}', ']', ',', '[', '65', ',', '{', '41', '}', ']', ',', '[', '76', ',', '{', '24', ',', '...', 'file', '\\\\', '0', '[', '[', '0', ',', '{', '2', '}', ']', ',', '[', '5', ',', '{', '154', '}', ']', ',', '[', '7', ',', '{', '17', ',', '30', '}', ']', ',', '[', '8', ',', '{', '32', ',', '...', 'got', '\\\\', '0', '[', '[', '0', ',', '{', '1', '}', ']', ',', '[', '29', ',', '{', '49', '}', ']', ',', '[', '33', ',', '{', '53', '}', ']', ',', '[', '37', ',', '{', '111', '}', ']', '...', 'recent', '0', '[', '[', '0', ',', '{', '0', '}', ']', ',', '[', '5', ',', '{', '153', '}', ']', ',', '[', '13', ',', '{', '0', '}', ']', ',', '[', '17', ',', '{', '5035', '}', ']', '...', '[', '1', 'rows', 'x', '6538', 'columns', ']']\n",
      "Total Document Matches: set()\n"
     ]
    }
   ],
   "source": [
    "query = postings\n",
    "lists = run_query(query)"
   ]
  }
 ],
 "metadata": {
  "kernelspec": {
   "display_name": "Python 3",
   "language": "python",
   "name": "python3"
  },
  "language_info": {
   "codemirror_mode": {
    "name": "ipython",
    "version": 3
   },
   "file_extension": ".py",
   "mimetype": "text/x-python",
   "name": "python",
   "nbconvert_exporter": "python",
   "pygments_lexer": "ipython3",
   "version": "3.7.4"
  }
 },
 "nbformat": 4,
 "nbformat_minor": 2
}
